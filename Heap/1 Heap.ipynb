{
 "cells": [
  {
   "cell_type": "markdown",
   "id": "1580627e",
   "metadata": {},
   "source": [
    "# Kth Largest Element in an Array\n",
    "\n",
    "Solution\n",
    "Given an integer array nums and an integer k, return the kth largest element in the array.\n",
    "\n",
    "Note that it is the kth largest element in the sorted order, not the kth distinct element.\n",
    "\n",
    "You must solve it in O(n) time complexity.\n",
    "\n",
    " \n",
    "\n",
    "Example 1:\n",
    "\n",
    "Input: nums = [3,2,1,5,6,4], k = 2\n",
    "Output: 5"
   ]
  },
  {
   "cell_type": "code",
   "execution_count": 7,
   "id": "bc93c12e",
   "metadata": {},
   "outputs": [
    {
     "name": "stdout",
     "output_type": "stream",
     "text": [
      "5\n"
     ]
    }
   ],
   "source": [
    "# reall solution is different\n",
    "nums = [3,2,1,5,6,4]; k = 2\n",
    "mx=max(nums)\n",
    "\n",
    "for i in range(k-1):\n",
    "    nums.remove(mx)\n",
    "\n",
    "print(max(nums))\n",
    " \n"
   ]
  },
  {
   "cell_type": "markdown",
   "id": "7f7c5e56",
   "metadata": {},
   "source": [
    "# Top K Frequent Elements\n",
    "\n",
    "Solution\n",
    "Given an integer array nums and an integer k, return the k most frequent elements. You may return the answer in any order.\n",
    "\n",
    "\n",
    "Example 1:\n",
    "\n",
    "Input: nums = [1,1,1,2,2,3], k = 2\n",
    "Output: [1,2]\n",
    "Example 2:\n",
    "\n",
    "Input: nums = [1], k = 1\n",
    "Output: [1]"
   ]
  },
  {
   "cell_type": "code",
   "execution_count": 24,
   "id": "a8a321f6",
   "metadata": {},
   "outputs": [
    {
     "name": "stdout",
     "output_type": "stream",
     "text": [
      "dict_keys([1, 2, 3])\n"
     ]
    }
   ],
   "source": [
    "nums = [1,1,1,2,2,3]; k=2\n",
    "\n",
    "dic={}\n",
    "lst=[]\n",
    "\n",
    "for i in range(len(nums)):\n",
    "    dic[nums[i]]=nums.count(nums[i])\n",
    "\n",
    "print(dic.keys())\n"
   ]
  },
  {
   "cell_type": "code",
   "execution_count": null,
   "id": "8eadfee4",
   "metadata": {},
   "outputs": [],
   "source": []
  }
 ],
 "metadata": {
  "kernelspec": {
   "display_name": "Python 3 (ipykernel)",
   "language": "python",
   "name": "python3"
  },
  "language_info": {
   "codemirror_mode": {
    "name": "ipython",
    "version": 3
   },
   "file_extension": ".py",
   "mimetype": "text/x-python",
   "name": "python",
   "nbconvert_exporter": "python",
   "pygments_lexer": "ipython3",
   "version": "3.9.12"
  }
 },
 "nbformat": 4,
 "nbformat_minor": 5
}
