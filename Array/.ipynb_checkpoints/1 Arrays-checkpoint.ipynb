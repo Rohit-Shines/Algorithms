{
 "cells": [
  {
   "cell_type": "code",
   "execution_count": null,
   "id": "3b0b7824",
   "metadata": {},
   "outputs": [],
   "source": []
  },
  {
   "cell_type": "markdown",
   "id": "ed5b4b7a",
   "metadata": {},
   "source": [
    "# 1. Two Sum\n",
    "# Given an array of integers nums and an integer target, return indices of the two numbers such that they add up to target.\n",
    "\n",
    "You may assume that each input would have exactly one solution, and you may not use the same element twice.\n",
    "\n",
    "You can return the answer in any order\n",
    "\n",
    "Input: nums = [2,7,11,15], target = 9\n",
    "Output: [0,1]\n",
    "Explanation: Because nums[0] + nums[1] == 9, we return [0, 1]\n"
   ]
  },
  {
   "cell_type": "code",
   "execution_count": 4,
   "id": "39d158d0",
   "metadata": {},
   "outputs": [
    {
     "name": "stdout",
     "output_type": "stream",
     "text": [
      "[0, 1]\n"
     ]
    }
   ],
   "source": [
    "#C=t-n// dictionary value check\n",
    "class Solution:\n",
    "    def twoSum(self,nums=[2,7,11,15], target=9):\n",
    "        HashMap = {} # Sets remove duplicates and print 1 value for 1// it is faster then list and tuples\n",
    "\n",
    "        for i in range(len(nums)): # len of nums = 4\n",
    "            HashMap[nums[i]] = i # creating {2: 0, 7: 1, 5: 2, 8:3}\n",
    "            complement = target - nums[i] # 1) 7= 9-2\n",
    "            if complement in HashMap: # 7 in hashmap\n",
    "                print([HashMap[complement],i ])  # HashMap[complement]= its like searching for the value in dictionary.\n",
    "                return\n",
    "obj=Solution()\n",
    "obj.twoSum()"
   ]
  },
  {
   "cell_type": "markdown",
   "id": "7a612fd2",
   "metadata": {},
   "source": [
    "# Given a binary array nums, return the maximum number of consecutive 1's in the array.\n",
    "\n",
    "Input: nums = [1,1,0,1,1,1]\n",
    "Output: 3\n",
    "Explanation: The first two digits or the last three digits are consecutive 1s. The maximum number of consecutive 1s is 3.\n",
    "\n",
    "\n",
    "\n",
    "\n",
    "\n"
   ]
  },
  {
   "cell_type": "code",
   "execution_count": 8,
   "id": "d0ebcc5a",
   "metadata": {},
   "outputs": [
    {
     "name": "stdout",
     "output_type": "stream",
     "text": [
      "3\n"
     ]
    }
   ],
   "source": [
    "# count and max count\n",
    "nums = [1,1,0,1,1,1]\n",
    "count = max_count = 0\n",
    "\n",
    "for num in nums:\n",
    "    if num==1:\n",
    "        count+=1\n",
    "    else:\n",
    "        max_count=count\n",
    "        count=0\n",
    "print(max( max_count,count))\n",
    "    \n",
    "\n",
    "    \n",
    "\n"
   ]
  },
  {
   "cell_type": "markdown",
   "id": "97863a20",
   "metadata": {},
   "source": [
    "#   Find Numbers with Even Number of Digits in calculatin ones tens and others place\n",
    "Input: nums = [12,345,2,6,7896]\n",
    "Output: 2\n",
    "Explanation: \n",
    "12 contains 2 digits (even number of digits). \n",
    "345 contains 3 digits (odd number of digits). \n",
    "2 contains 1 digit (odd number of digits). \n",
    "6 contains 1 digit (odd number of digits). \n",
    "7896 contains 4 digits (even number of digits). \n",
    "Therefore only 12 and 7896 contain an even number of digits."
   ]
  },
  {
   "cell_type": "code",
   "execution_count": 11,
   "id": "d9e3470a",
   "metadata": {},
   "outputs": [
    {
     "name": "stdout",
     "output_type": "stream",
     "text": [
      "2\n"
     ]
    }
   ],
   "source": [
    "# use len(str)\n",
    "nums = [12,345,2,6,7896]\n",
    "count =0\n",
    "for num in nums:\n",
    "    if len(str(num))%2==0:\n",
    "        count+=1\n",
    "print(count)"
   ]
  },
  {
   "cell_type": "markdown",
   "id": "9decc29e",
   "metadata": {},
   "source": [
    "# Given an integer array nums sorted in non-decreasing order, return an array of the squares of each number sorted in non-decreasing order.\n",
    "\n",
    "Input: nums = [-4,-1,0,3,10]\n",
    "Output: [0,1,9,16,100]\n",
    "Explanation: After squaring, the array becomes [16,1,0,9,100].\n",
    "After sorting, it becomes [0,1,9,16,100]."
   ]
  },
  {
   "cell_type": "code",
   "execution_count": 18,
   "id": "47125241",
   "metadata": {},
   "outputs": [
    {
     "name": "stdout",
     "output_type": "stream",
     "text": [
      "[16, 1, 0, 9, 100]\n"
     ]
    }
   ],
   "source": [
    "nums = [-4,-1,0,3,10] \n",
    "\n",
    "for i in range(len(nums)):\n",
    "    nums[i]=nums[i]**2\n",
    "    \n",
    "for i range(len(nums))\n",
    "    "
   ]
  },
  {
   "cell_type": "code",
   "execution_count": null,
   "id": "3d2eff1f",
   "metadata": {},
   "outputs": [],
   "source": []
  }
 ],
 "metadata": {
  "kernelspec": {
   "display_name": "Python 3 (ipykernel)",
   "language": "python",
   "name": "python3"
  },
  "language_info": {
   "codemirror_mode": {
    "name": "ipython",
    "version": 3
   },
   "file_extension": ".py",
   "mimetype": "text/x-python",
   "name": "python",
   "nbconvert_exporter": "python",
   "pygments_lexer": "ipython3",
   "version": "3.9.12"
  }
 },
 "nbformat": 4,
 "nbformat_minor": 5
}
