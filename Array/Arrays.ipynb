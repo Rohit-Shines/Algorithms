{
 "cells": [
  {
   "cell_type": "markdown",
   "id": "cbefb578",
   "metadata": {},
   "source": [
    "# 1. Two Sum\n",
    "# Given an array of integers nums and an integer target, return indices of the two numbers such that they add up to target.\n",
    "\n",
    "You may assume that each input would have exactly one solution, and you may not use the same element twice.\n",
    "\n",
    "You can return the answer in any order\n",
    "\n",
    "Input: nums = [2,7,11,15], target = 9\n",
    "Output: [0,1]\n",
    "Explanation: Because nums[0] + nums[1] == 9, we return [0, 1]\n"
   ]
  },
  {
   "cell_type": "code",
   "execution_count": 2,
   "id": "ca7b36fc",
   "metadata": {},
   "outputs": [
    {
     "data": {
      "text/plain": [
       "[0, 1]"
      ]
     },
     "execution_count": 2,
     "metadata": {},
     "output_type": "execute_result"
    }
   ],
   "source": [
    "class Solution:\n",
    "    def twoSum(self,nums=[2,7,11,15], target=9):\n",
    "        HashMap = {} # Sets remove duplicates and print 1 value for 1// it is faster then list and tuples\n",
    "\n",
    "        for i in range(len(nums)): # len of nums = 4\n",
    "            HashMap[nums[i]] = i # creating {2: 0, 7: 1, 5: 2, 8:3}\n",
    "            complement = target - nums[i] # 1) 7= 9-2\n",
    "            if complement in HashMap: # 7 in hashmap\n",
    "                return [HashMap[complement],i ] # HashMap[complement]= its like searching for the value in dictionary.\n",
    "obj=Solution()\n",
    "obj.twoSum()"
   ]
  },
  {
   "cell_type": "code",
   "execution_count": null,
   "id": "e40523f8",
   "metadata": {},
   "outputs": [],
   "source": []
  }
 ],
 "metadata": {
  "kernelspec": {
   "display_name": "Python 3 (ipykernel)",
   "language": "python",
   "name": "python3"
  },
  "language_info": {
   "codemirror_mode": {
    "name": "ipython",
    "version": 3
   },
   "file_extension": ".py",
   "mimetype": "text/x-python",
   "name": "python",
   "nbconvert_exporter": "python",
   "pygments_lexer": "ipython3",
   "version": "3.9.12"
  }
 },
 "nbformat": 4,
 "nbformat_minor": 5
}
