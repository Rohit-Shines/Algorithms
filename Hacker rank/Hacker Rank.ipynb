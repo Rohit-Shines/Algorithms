{
 "cells": [
  {
   "cell_type": "markdown",
   "id": "c4682a56",
   "metadata": {},
   "source": [
    "Given a square matrix, calculate the absolute difference between the sums of its diagonals.\n",
    "\n",
    "For example, the square matrix  is shown below:"
   ]
  },
  {
   "cell_type": "code",
   "execution_count": 3,
   "id": "1d8fce8a",
   "metadata": {},
   "outputs": [],
   "source": [
    "def diagonalDifference(arr):\n",
    "    d1=0\n",
    "    d2=0\n",
    "    n =len(arr)\n",
    "    for i in range(len(arr)):\n",
    "        d1+=arr[i][i]\n",
    "        d2+=arr[i][n-i-1]\n",
    "    return abs(d1-d2)\n",
    "        "
   ]
  },
  {
   "cell_type": "markdown",
   "id": "1e78930d",
   "metadata": {},
   "source": [
    "Given an array of integers, calculate the ratios of its elements that are positive, negative, and zero. Print the decimal value of each fraction on a new line with  places after the decimal.\n",
    "\n",
    "Note: This challenge introduces precision problems. The test cases are scaled to six decimal places, though answers with absolute error of up to  are acceptable.\n",
    "\n",
    "Example\n",
    "\n",
    "There are  elements, two positive, two negative and one zero. Their ratios are ,  and . Results are printed as:"
   ]
  },
  {
   "cell_type": "code",
   "execution_count": 19,
   "id": "e02e4b49",
   "metadata": {},
   "outputs": [
    {
     "name": "stdout",
     "output_type": "stream",
     "text": [
      "0.333333\n"
     ]
    }
   ],
   "source": [
    "arr=[2,3,-1,-2,0,0]\n",
    "n =len(arr)\n",
    "pstv=0\n",
    "ngtv=0\n",
    "zero=0\n",
    "\n",
    "for i in range(n):\n",
    "    if arr[i]==0:\n",
    "        zero+=1\n",
    "    elif arr[i]>0:\n",
    "        pstv+=1\n",
    "    else:\n",
    "        ngtv+=1\n",
    "# print(\"%f\"%(pstv/n , ngtv/n , zero/n)) \n",
    "# print((\"{:.6f}\".format(pstv/n),end=\" \") ,(\"{:.6f}\".format(pstv/n), end=\" \"),(\"{:.6f}\".format(pstv/n), end=\" \"))\n",
    "print(\"%06f\" % (pstv/n))\n",
    "print(\"%06f\" % (ngtv/n))\n",
    "print(\"%06f\" % (zero/n))\n",
    "\n"
   ]
  },
  {
   "cell_type": "code",
   "execution_count": null,
   "id": "2d10a05d",
   "metadata": {},
   "outputs": [],
   "source": [
    "Staircase detail\n",
    "\n",
    "This is a staircase of size :\n",
    "\n",
    "   #\n",
    "  ##\n",
    " ###\n",
    "####\n",
    "Its base and height are both equal to . It is drawn using # symbols and spaces. The last line is not preceded by any spaces.\n",
    "\n",
    "Write a program that prints a staircase of size "
   ]
  },
  {
   "cell_type": "code",
   "execution_count": 21,
   "id": "5f92b208",
   "metadata": {},
   "outputs": [
    {
     "name": "stdout",
     "output_type": "stream",
     "text": [
      "     #\n",
      "    ##\n",
      "   ###\n",
      "  ####\n",
      " #####\n",
      "######\n"
     ]
    }
   ],
   "source": [
    "# he rjust() method will right align the string, using a specified character (space is default) as the fill character.\n",
    "# i is the numner of times # should pring\n",
    "    # n how many spaces we need\n",
    "    \n",
    "x = '#'\n",
    "for i in range(n):\n",
    "    print((x*(i+1)).rjust(n))"
   ]
  },
  {
   "cell_type": "code",
   "execution_count": 19,
   "id": "ea2c59a9",
   "metadata": {},
   "outputs": [
    {
     "name": "stdout",
     "output_type": "stream",
     "text": [
      "0\n",
      "1\n",
      "2\n",
      "3\n",
      "4\n",
      "14 10\n"
     ]
    }
   ],
   "source": [
    "# use bubble sort to sort arrays\n",
    "# and add starting and rest of them\n",
    "\n",
    "arr=[1,2,3,4,5]\n",
    "ma =0\n",
    "mi=0\n",
    "for k in range(len(arr)):\n",
    "    for i in range(len(arr)-k-1):\n",
    "        if arr[i]>arr[i+1]:\n",
    "            arr[i],arr[i+1]=arr[i+1],arr[i]\n",
    "# print(arr)\n",
    "    \n",
    "for i in range(len(arr)):\n",
    "    print(i)\n",
    "    if i<len(arr)-1:\n",
    "        mi+=arr[i]\n",
    "    if i >0:\n",
    "        ma+=arr[i]\n",
    "\n",
    "print(ma,mi) "
   ]
  },
  {
   "cell_type": "markdown",
   "id": "ee3ee4f3",
   "metadata": {},
   "source": [
    "# Numeber of cores check"
   ]
  },
  {
   "cell_type": "code",
   "execution_count": 41,
   "id": "ab8c5791",
   "metadata": {},
   "outputs": [
    {
     "name": "stdout",
     "output_type": "stream",
     "text": [
      "[5, 3, 1]\n",
      "9\n",
      "0\n",
      "0\n"
     ]
    }
   ],
   "source": [
    "import math\n",
    "import os\n",
    "import random\n",
    "import re\n",
    "import sys\n",
    "\n",
    "\n",
    "\n",
    "files=[3,1,5]\n",
    "numCores=1\n",
    "limit =5\n",
    "\n",
    "x = [] # 3\n",
    "y = []\n",
    "for f in files: # 3,1,2\n",
    "    if f % numCores == 0: # \n",
    "        x.append(f)\n",
    "    else:\n",
    "        y.append(f)\n",
    "        \n",
    "x.sort(reverse=True)# [5, 3, 1]\n",
    "print(x[:5])\n",
    "print(sum(x[:limit]) // numCores)\n",
    "print(sum(x[limit:]))\n",
    "print(sum(y))\n",
    "\n",
    "# print((sum(x[:limit]) // numCores) + sum(x[limit:]) + sum(y))\n",
    "    \n",
    "\n"
   ]
  },
  {
   "cell_type": "markdown",
   "id": "6b4fbd61",
   "metadata": {},
   "source": [
    "# String Valid Anagrams\n"
   ]
  },
  {
   "cell_type": "code",
   "execution_count": null,
   "id": "24e5e59b",
   "metadata": {},
   "outputs": [],
   "source": [
    "def stringAnagram(dictionary, query):\n",
    "    # Write your code here\n",
    "    dict={} # set \n",
    "    for s in dictionary: # s is index \n",
    "        i=str(sorted(s)) # sorting all the string in the dictionary accordingly \n",
    "        if i in dict: # checking if i is in new dict or not\n",
    "            dict[i]+=1 # \n",
    "        else:\n",
    "            dict[i]=1 \n",
    "    ans=[]\n",
    "    for s in query:\n",
    "        i=str(sorted(s))\n",
    "        if i in dict:\n",
    "            ans.append(dict[i])\n",
    "        else:\n",
    "            ans.append(0)\n",
    "    return ans\n",
    "                \n",
    "                "
   ]
  }
 ],
 "metadata": {
  "kernelspec": {
   "display_name": "Python 3 (ipykernel)",
   "language": "python",
   "name": "python3"
  },
  "language_info": {
   "codemirror_mode": {
    "name": "ipython",
    "version": 3
   },
   "file_extension": ".py",
   "mimetype": "text/x-python",
   "name": "python",
   "nbconvert_exporter": "python",
   "pygments_lexer": "ipython3",
   "version": "3.9.12"
  }
 },
 "nbformat": 4,
 "nbformat_minor": 5
}
