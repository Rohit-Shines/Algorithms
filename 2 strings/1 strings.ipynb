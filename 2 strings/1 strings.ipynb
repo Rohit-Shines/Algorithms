{
 "cells": [
  {
   "cell_type": "markdown",
   "id": "a6340fd5",
   "metadata": {},
   "source": [
    "# Reverse an array"
   ]
  },
  {
   "cell_type": "code",
   "execution_count": 8,
   "id": "a118566d",
   "metadata": {},
   "outputs": [
    {
     "name": "stdout",
     "output_type": "stream",
     "text": [
      "['o', 'l', 'l', 'e', 'h']\n"
     ]
    }
   ],
   "source": [
    "arr = [\"h\",\"e\",\"l\",\"l\",\"o\"]\n",
    "left =0; right= len(arr)-1\n",
    "\n",
    "\n",
    "left, right = 0, len(arr) - 1\n",
    "while left < right:\n",
    "    arr[left], arr[right] = arr[right], arr[left]\n",
    "    left, right = left + 1, right - 1\n",
    "    \n",
    "print(arr)\n",
    "\n"
   ]
  },
  {
   "cell_type": "markdown",
   "id": "508722b5",
   "metadata": {},
   "source": [
    "# Reverse a string"
   ]
  },
  {
   "cell_type": "code",
   "execution_count": 9,
   "id": "0aa5e1cf",
   "metadata": {},
   "outputs": [
    {
     "name": "stdout",
     "output_type": "stream",
     "text": [
      "tihor\n"
     ]
    }
   ],
   "source": [
    "s = \"rohit\"\n",
    "print(s[::-1])"
   ]
  },
  {
   "cell_type": "markdown",
   "id": "ddd974ea",
   "metadata": {},
   "source": [
    "# Reverse an intiger\n"
   ]
  },
  {
   "cell_type": "code",
   "execution_count": 25,
   "id": "ba7d2554",
   "metadata": {},
   "outputs": [
    {
     "name": "stdout",
     "output_type": "stream",
     "text": [
      "Negative Number\n"
     ]
    }
   ],
   "source": [
    "num=-123\n",
    "\n",
    "rev=0\n",
    "\n",
    "if num>0:\n",
    "    while num>0:\n",
    "        rev = rev*10+num%10\n",
    "        num=num//10\n",
    "        print(\"num\",num)\n",
    "        print(\"rev\",rev)\n",
    "else:\n",
    "    print(\"Negative Number\")\n",
    "    \n",
    "\n"
   ]
  },
  {
   "cell_type": "markdown",
   "id": "46f36436",
   "metadata": {},
   "source": [
    "#   First Unique Character in a String"
   ]
  },
  {
   "cell_type": "code",
   "execution_count": 45,
   "id": "a5b95a1d",
   "metadata": {},
   "outputs": [
    {
     "name": "stdout",
     "output_type": "stream",
     "text": [
      "3\n"
     ]
    }
   ],
   "source": [
    "import collections\n",
    "\n",
    "s=\"annimal\"\n",
    "\n",
    "count=collections.Counter(s) # ({'p': 2, 'a': 1, 'l': 1, 'e': 1})\n",
    "\n",
    "\n",
    "for idx ,value in enumerate(s):\n",
    "    if count[value]==1:\n",
    "        print(idx)\n",
    "        break\n",
    "\n",
    "\n",
    "\n",
    "\n",
    "\n",
    "\n",
    "\n",
    "\n"
   ]
  },
  {
   "cell_type": "markdown",
   "id": "2f86dcb4",
   "metadata": {},
   "source": [
    "\n",
    "# Valid Anagram"
   ]
  },
  {
   "cell_type": "code",
   "execution_count": 64,
   "id": "1d919cb0",
   "metadata": {},
   "outputs": [],
   "source": [
    "import collections\n",
    "\n",
    "s = \"apple\"; t = \"pplea\"\n",
    "\n",
    "count1=collections.Counter(s)\n",
    "\n",
    "count2=collections.Counter(t)\n",
    "\n",
    "for value in s:\n",
    "    if count1[value]!=count2[value]:\n",
    "        print(\"Not anagram\")\n",
    "        break\n",
    "    \n",
    "\n",
    "\n"
   ]
  },
  {
   "cell_type": "code",
   "execution_count": null,
   "id": "7441746b",
   "metadata": {},
   "outputs": [],
   "source": [
    "# valid palindrome chars"
   ]
  },
  {
   "cell_type": "code",
   "execution_count": 74,
   "id": "0e38b2c2",
   "metadata": {},
   "outputs": [
    {
     "ename": "TypeError",
     "evalue": "str.isalnum() takes no arguments (1 given)",
     "output_type": "error",
     "traceback": [
      "\u001b[0;31m---------------------------------------------------------------------------\u001b[0m",
      "\u001b[0;31mTypeError\u001b[0m                                 Traceback (most recent call last)",
      "Input \u001b[0;32mIn [74]\u001b[0m, in \u001b[0;36m<cell line: 3>\u001b[0;34m()\u001b[0m\n\u001b[1;32m      1\u001b[0m apple \u001b[38;5;241m=\u001b[39m \u001b[38;5;124m\"\u001b[39m\u001b[38;5;124mA man, a plan, a canal: Panama\u001b[39m\u001b[38;5;124m\"\u001b[39m\n\u001b[0;32m----> 3\u001b[0m s \u001b[38;5;241m=\u001b[39m \u001b[38;5;124;43m'\u001b[39;49m\u001b[38;5;124;43m'\u001b[39;49m\u001b[38;5;241;43m.\u001b[39;49m\u001b[43mjoin\u001b[49m\u001b[43m(\u001b[49m\u001b[38;5;28;43mfilter\u001b[39;49m\u001b[43m(\u001b[49m\u001b[38;5;28;43mstr\u001b[39;49m\u001b[38;5;241;43m.\u001b[39;49m\u001b[43misalnum\u001b[49m\u001b[43m,\u001b[49m\u001b[43m \u001b[49m\u001b[43mapple\u001b[49m\u001b[43m)\u001b[49m\u001b[43m)\u001b[49m\n\u001b[1;32m      5\u001b[0m \u001b[38;5;28mprint\u001b[39m(s)\n",
      "\u001b[0;31mTypeError\u001b[0m: str.isalnum() takes no arguments (1 given)"
     ]
    }
   ],
   "source": [
    "apple = \"A man, a plan, a canal: Panama\"\n",
    "\n",
    "s = ''.join(filter(str.isalnum, apple))\n",
    "\n",
    "print(s)"
   ]
  },
  {
   "cell_type": "markdown",
   "id": "9ca0b286",
   "metadata": {},
   "source": [
    "#   Implement strStr()     # most important iteration"
   ]
  },
  {
   "cell_type": "code",
   "execution_count": 124,
   "id": "456aced9",
   "metadata": {},
   "outputs": [
    {
     "name": "stdout",
     "output_type": "stream",
     "text": [
      "4\n"
     ]
    }
   ],
   "source": [
    "haystack = \"mississippi\"\n",
    "needle = \"issip\"\n",
    "\n",
    "# Base conditions\n",
    "if haystack is None or needle is None:\n",
    "    print(\"-1\")\n",
    "# Special case\n",
    "if haystack == needle:\n",
    "    print(\"0\")\n",
    "# Length of the needle\n",
    "needleLength = len(needle)\n",
    "# Loop through the haystack and slide the window\n",
    "\n",
    "\n",
    "for i in range(len(haystack)-len(needle)+1):\n",
    "    if haystack[i:i+len(needle)]==needle:\n",
    "        print(i)"
   ]
  },
  {
   "cell_type": "markdown",
   "id": "216700f0",
   "metadata": {},
   "source": [
    "#   Longest Common Prefix"
   ]
  },
  {
   "cell_type": "code",
   "execution_count": 136,
   "id": "a4942b5b",
   "metadata": {},
   "outputs": [
    {
     "name": "stdout",
     "output_type": "stream",
     "text": [
      "4\n",
      "f\n"
     ]
    }
   ],
   "source": [
    "strs = [\"flower\",\"flow\",\"flight\"]\n",
    "\n",
    "## identified the minimum lenth\n",
    "min1 = len(strs[0])\n",
    "for i in range(1,len(strs)):\n",
    "    min1 =min(min1,len(strs[i]))\n",
    "    \n",
    "print(min1)\n",
    "current = strs[0][0]\n",
    "# for i in range(0,min1):\n",
    "    \n",
    "    \n",
    "print(current)\n",
    "    \n",
    "    \n",
    "\n",
    "    \n"
   ]
  },
  {
   "cell_type": "code",
   "execution_count": null,
   "id": "65ffb12d",
   "metadata": {},
   "outputs": [],
   "source": []
  }
 ],
 "metadata": {
  "kernelspec": {
   "display_name": "Python 3 (ipykernel)",
   "language": "python",
   "name": "python3"
  },
  "language_info": {
   "codemirror_mode": {
    "name": "ipython",
    "version": 3
   },
   "file_extension": ".py",
   "mimetype": "text/x-python",
   "name": "python",
   "nbconvert_exporter": "python",
   "pygments_lexer": "ipython3",
   "version": "3.9.12"
  }
 },
 "nbformat": 4,
 "nbformat_minor": 5
}
