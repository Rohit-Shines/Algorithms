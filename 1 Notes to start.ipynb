{
 "cells": [
  {
   "cell_type": "markdown",
   "id": "c709166d",
   "metadata": {},
   "source": [
    "# Before writing any Algorithm we need to consider few things\n",
    "\n",
    "###Part1 initiate ####\n",
    "1 Write down in Graphical view on what to do in Paper\n",
    "2 write down inputs and outputs expected\n",
    "3 write down variables required\n",
    "\n",
    "##Part2 Conditions##\n",
    "1 what to do if input is empty\n",
    "2 what to do if input as only 1 value\n",
    "3 what to do if input is of different data type\n",
    "4 what if there are repeating numbers\n",
    "\n",
    "##Part3 final##\n",
    "1 Divide and rule\n"
   ]
  },
  {
   "cell_type": "code",
   "execution_count": null,
   "id": "9cb4766e",
   "metadata": {},
   "outputs": [],
   "source": []
  }
 ],
 "metadata": {
  "kernelspec": {
   "display_name": "Python 3 (ipykernel)",
   "language": "python",
   "name": "python3"
  },
  "language_info": {
   "codemirror_mode": {
    "name": "ipython",
    "version": 3
   },
   "file_extension": ".py",
   "mimetype": "text/x-python",
   "name": "python",
   "nbconvert_exporter": "python",
   "pygments_lexer": "ipython3",
   "version": "3.9.12"
  }
 },
 "nbformat": 4,
 "nbformat_minor": 5
}
