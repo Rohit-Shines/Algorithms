{
 "cells": [
  {
   "cell_type": "markdown",
   "id": "92fadee4",
   "metadata": {},
   "source": [
    "#  Move Zeroes without extra array\n",
    "\n",
    "Solution\n",
    "Given an integer array nums, move all 0's to the end of it while maintaining the relative order of the non-zero elements.\n",
    "\n",
    "Note that you must do this in-place without making a copy of the array.\n",
    "\n",
    "Input: nums = [0,1,0,3,12]\n",
    "Output: [1,3,12,0,0]\n"
   ]
  },
  {
   "cell_type": "code",
   "execution_count": 5,
   "id": "781a0c56",
   "metadata": {},
   "outputs": [
    {
     "name": "stdout",
     "output_type": "stream",
     "text": [
      "[1, 3, 12, 0, 0]\n"
     ]
    }
   ],
   "source": [
    "\n",
    "nums = [0,1,0,3,12]\n",
    "i = 0 ; j = 0\n",
    "while j < len(nums): #  0 < 5\n",
    "    if nums[j] == 0: # this makes the j values more and give us J count\n",
    "        j += 1\n",
    "    else:\n",
    "        nums[i] = nums[j] # 1st slot they are adding 1\n",
    "        i += 1\n",
    "        j += 1 # this is important \n",
    "\n",
    "while i < len(nums): # addintg extra zeros back\n",
    "    nums[i] = 0\n",
    "    i += 1\n",
    "\n",
    "print(nums)\n",
    "    "
   ]
  },
  {
   "cell_type": "code",
   "execution_count": null,
   "id": "b75ef693",
   "metadata": {},
   "outputs": [],
   "source": []
  }
 ],
 "metadata": {
  "kernelspec": {
   "display_name": "Python 3 (ipykernel)",
   "language": "python",
   "name": "python3"
  },
  "language_info": {
   "codemirror_mode": {
    "name": "ipython",
    "version": 3
   },
   "file_extension": ".py",
   "mimetype": "text/x-python",
   "name": "python",
   "nbconvert_exporter": "python",
   "pygments_lexer": "ipython3",
   "version": "3.9.12"
  }
 },
 "nbformat": 4,
 "nbformat_minor": 5
}
