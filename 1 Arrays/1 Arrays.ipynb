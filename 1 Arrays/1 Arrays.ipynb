{
 "cells": [
  {
   "cell_type": "code",
   "execution_count": null,
   "id": "4e9b3737",
   "metadata": {},
   "outputs": [],
   "source": []
  },
  {
   "cell_type": "markdown",
   "id": "3c79bf1d",
   "metadata": {},
   "source": [
    "# 1. Two Sum\n",
    "# Given an array of integers nums and an integer target, return indices of the two numbers such that they add up to target.\n",
    "\n",
    "You may assume that each input would have exactly one solution, and you may not use the same element twice.\n",
    "\n",
    "You can return the answer in any order\n",
    "\n",
    "Input: nums = [2,7,11,15], target = 9\n",
    "Output: [0,1]\n",
    "Explanation: Because nums[0] + nums[1] == 9, we return [0, 1]\n"
   ]
  },
  {
   "cell_type": "code",
   "execution_count": 4,
   "id": "2dc2df9a",
   "metadata": {},
   "outputs": [
    {
     "name": "stdout",
     "output_type": "stream",
     "text": [
      "[0, 1]\n"
     ]
    }
   ],
   "source": [
    "#C=t-n// dictionary value check\n",
    "class Solution:\n",
    "    def twoSum(self,nums=[2,7,11,15], target=9):\n",
    "        HashMap = {} # Sets remove duplicates and print 1 value for 1// it is faster then list and tuples\n",
    "\n",
    "        for i in range(len(nums)): # len of nums = 4\n",
    "            HashMap[nums[i]] = i # creating {2: 0, 7: 1, 5: 2, 8:3}\n",
    "            complement = target - nums[i] # 1) 7= 9-2\n",
    "            if complement in HashMap: # 7 in hashmap\n",
    "                print([HashMap[complement],i ])  # HashMap[complement]= its like searching for the value in dictionary.\n",
    "                return\n",
    "obj=Solution()\n",
    "obj.twoSum()"
   ]
  },
  {
   "cell_type": "markdown",
   "id": "970c71c9",
   "metadata": {},
   "source": [
    "# Given a binary array nums, return the maximum number of consecutive 1's in the array.\n",
    "\n",
    "Input: nums = [1,1,0,1,1,1]\n",
    "Output: 3\n",
    "Explanation: The first two digits or the last three digits are consecutive 1s. The maximum number of consecutive 1s is 3.\n",
    "\n",
    "\n",
    "\n",
    "\n",
    "\n"
   ]
  },
  {
   "cell_type": "code",
   "execution_count": 8,
   "id": "037fd83c",
   "metadata": {},
   "outputs": [
    {
     "name": "stdout",
     "output_type": "stream",
     "text": [
      "3\n"
     ]
    }
   ],
   "source": [
    "# count and max count\n",
    "nums = [1,1,0,1,1,1]\n",
    "count = max_count = 0\n",
    "\n",
    "for num in nums:\n",
    "    if num==1:\n",
    "        count+=1\n",
    "    else:\n",
    "        max_count=count\n",
    "        count=0\n",
    "print(max( max_count,count))\n",
    "    \n",
    "\n",
    "    \n",
    "\n"
   ]
  },
  {
   "cell_type": "markdown",
   "id": "5014d1b4",
   "metadata": {},
   "source": [
    "#   Find Numbers with Even Number of Digits in calculatin ones tens and others place\n",
    "Input: nums = [12,345,2,6,7896]\n",
    "Output: 2\n",
    "Explanation: \n",
    "12 contains 2 digits (even number of digits). \n",
    "345 contains 3 digits (odd number of digits). \n",
    "2 contains 1 digit (odd number of digits). \n",
    "6 contains 1 digit (odd number of digits). \n",
    "7896 contains 4 digits (even number of digits). \n",
    "Therefore only 12 and 7896 contain an even number of digits."
   ]
  },
  {
   "cell_type": "code",
   "execution_count": 11,
   "id": "da8a9fea",
   "metadata": {},
   "outputs": [
    {
     "name": "stdout",
     "output_type": "stream",
     "text": [
      "2\n"
     ]
    }
   ],
   "source": [
    "# use len(str)\n",
    "nums = [12,345,2,6,7896]\n",
    "count =0\n",
    "for num in nums:\n",
    "    if len(str(num))%2==0:\n",
    "        count+=1\n",
    "print(count)"
   ]
  },
  {
   "cell_type": "markdown",
   "id": "0741e92b",
   "metadata": {},
   "source": [
    "# Given an integer array nums sorted in non-decreasing order, return an array of the squares of each number sorted in non-decreasing order.\n",
    "\n",
    "Input: nums = [-4,-1,0,3,10]\n",
    "Output: [0,1,9,16,100]\n",
    "Explanation: After squaring, the array becomes [16,1,0,9,100].\n",
    "After sorting, it becomes [0,1,9,16,100]."
   ]
  },
  {
   "cell_type": "code",
   "execution_count": 21,
   "id": "2e412549",
   "metadata": {},
   "outputs": [
    {
     "name": "stdout",
     "output_type": "stream",
     "text": [
      "[0, 1, 9, 16, 100]\n"
     ]
    }
   ],
   "source": [
    "# sorted funtcion\n",
    "nums = [-4,-1,0,3,10] \n",
    "for i in range(len(nums)):\n",
    "    nums[i]=nums[i]**2\n",
    "    \n",
    "print(sorted(nums))\n",
    "    "
   ]
  },
  {
   "cell_type": "markdown",
   "id": "ffdd5d7f",
   "metadata": {},
   "source": [
    "# Given a fixed-length integer array arr, duplicate each occurrence of zero, shifting the remaining elements to the right.\n",
    "\n",
    "Note that elements beyond the length of the original array are not written. Do the above modifications to the input array in place and do not return anything\n",
    "\n",
    "Input: arr = [1,0,2,3,0,4,5,0]\n",
    "Output: [1,0,0,2,3,0,0,4]\n",
    "Explanation: After calling your function, the input array is modified to: [1,0,0,2,3,0,0,4]"
   ]
  },
  {
   "cell_type": "code",
   "execution_count": 82,
   "id": "3e10d40f",
   "metadata": {},
   "outputs": [
    {
     "name": "stdout",
     "output_type": "stream",
     "text": [
      "[1, 0, 0, 2, 3, 0, 0, 4, 5, 0, 0]\n"
     ]
    }
   ],
   "source": [
    "# append 0\n",
    "\n",
    "nums = [1,0,2,3,0,4,5,0]\n",
    "\n",
    "list1 =[]\n",
    "\n",
    "for i in range(len(nums)):\n",
    "    if nums[i]==0:\n",
    "        list1.append(0)\n",
    "        list1.append(0)\n",
    "    else:\n",
    "        list1.append(nums[i])\n",
    "        \n",
    "print(list1)\n",
    "        "
   ]
  },
  {
   "cell_type": "markdown",
   "id": "0aca8b6d",
   "metadata": {},
   "source": [
    "# You are given two integer arrays nums1 and nums2, sorted in non-decreasing order, and two integers m and n, representing the number of elements in nums1 and nums2 respectively.\n",
    "\n",
    "Merge nums1 and nums2 into a single array sorted in non-decreasing order.\n",
    "\n",
    "The final sorted array should not be returned by the function, but instead be stored inside the array nums1. To accommodate this, nums1 has a length of m + n, where the first m elements denote the elements that should be merged, and the last n elements are set to 0 and should be ignored. nums2 has a length of n\n",
    "You are given two integer arrays nums1 and nums2, sorted in non-decreasing order, and two integers m and n, representing the number of elements in nums1 and nums2 respectively.\n",
    "\n",
    "Input: nums1 = [1,2,3,0,0,0], m = 3, nums2 = [2,5,6], n = 3\n",
    "Output: [1,2,2,3,5,6]\n"
   ]
  },
  {
   "cell_type": "code",
   "execution_count": 62,
   "id": "46b7d9f1",
   "metadata": {},
   "outputs": [
    {
     "name": "stdout",
     "output_type": "stream",
     "text": [
      "None\n"
     ]
    }
   ],
   "source": [
    "# nums1[i+1]\n",
    "nums1 = [1,2,3,0,0,0]; m = 3; nums2 = [2,5,6]; n = 3\n",
    "\n",
    "for i in range(n):\n",
    "    nums1[i + m] = nums2[i]\n",
    "\n",
    "nums1.sort()\n",
    "\n",
    "print(nums1)\n",
    "\n"
   ]
  },
  {
   "cell_type": "markdown",
   "id": "f5ffb498",
   "metadata": {},
   "source": [
    "# Given an integer array nums and an integer val, remove all occurrences of val in nums in-place. The relative order of the elements may be changed.\n",
    "Given an integer array nums and an integer val, remove all occurrences of val in nums in-place. The relative order of the elements may be changed.\n",
    "\n",
    "Input: nums = [3,2,2,3], val = 3\n",
    "Output: 2, nums = [2,2,_,_]\n",
    "Explanation: Your function should return k = 2, with the first two elements of nums being 2.\n",
    "It does not matter what you leave beyond the returned k (hence they are underscores)."
   ]
  },
  {
   "cell_type": "code",
   "execution_count": 80,
   "id": "ba547655",
   "metadata": {},
   "outputs": [
    {
     "name": "stdout",
     "output_type": "stream",
     "text": [
      "[2, 2, '_', '_']\n"
     ]
    }
   ],
   "source": [
    "##  \n",
    "\n",
    "nums = [3,2,2,3]; val = 3\n",
    "nums2=[]\n",
    "nums3=[]\n",
    "\n",
    "for i in range(len(nums)):\n",
    "    if nums[i]==val:\n",
    "       nums3.append('_')\n",
    "    else:\n",
    "        nums2.append(nums[i])\n",
    "        \n",
    "print(nums2+nums3)\n",
    "        \n",
    "        "
   ]
  },
  {
   "cell_type": "markdown",
   "id": "af10bd72",
   "metadata": {},
   "source": [
    "# Check If N and Its Double Exist\n",
    "Given an array arr of integers, check if there exist two indices i and j such that :\n",
    "\n",
    "arr[i] == 2 * arr[j]\n",
    "\n",
    "Example 1:\n",
    "\n",
    "Input: arr = [10,2,5,3]\n",
    "Output: true\n",
    "Explanation: For i = 0 and j = 2, arr[i] == 10 == 2 * 5 == 2 * arr[j]"
   ]
  },
  {
   "cell_type": "code",
   "execution_count": 93,
   "id": "80efb3a5",
   "metadata": {},
   "outputs": [
    {
     "name": "stdout",
     "output_type": "stream",
     "text": [
      "false\n"
     ]
    }
   ],
   "source": [
    "nums = [10,2,3]\n",
    "\n",
    "for i in range(len(nums)):\n",
    "    if nums[i]*2 in nums or nums[i]//2 in nums:\n",
    "        print(\"true\")\n",
    "        break\n",
    "    else:\n",
    "        print(\"false\")\n",
    "        break\n",
    "        "
   ]
  },
  {
   "cell_type": "markdown",
   "id": "9dea991e",
   "metadata": {},
   "source": [
    "# Valid Mountain Array\n",
    "# Given an array of integers arr, return true if and only if it is a valid mountain array.\n",
    "\n",
    "Recall that arr is a mountain array if and only if \n",
    "\n",
    "Input: arr = [2,1]\n",
    "Output: false"
   ]
  },
  {
   "cell_type": "code",
   "execution_count": 104,
   "id": "d75430f3",
   "metadata": {},
   "outputs": [
    {
     "name": "stdout",
     "output_type": "stream",
     "text": [
      "4\n",
      "5\n",
      "True\n"
     ]
    }
   ],
   "source": [
    "# check i == len(nums)-1 # i is index\n",
    "\n",
    "nums=[0,3,4,2,1]\n",
    "N = len(nums) # length of array\n",
    "i = 0\n",
    "\n",
    "# walk up implementing for loop in i\n",
    "while i < N and nums[i] < nums[i+1]:# takes the I value at maximum number \n",
    "    i += 1 # i = 2\n",
    "\n",
    "# peak can't be first or last\n",
    "if i == 0 or i == N-1: # 5-1 = 4\n",
    "    print(\"False\")\n",
    "\n",
    "# walk down\n",
    "while i+1 < N and nums[i] > nums[i+1]: # \n",
    "    i += 1\n",
    "\n",
    "print(i)\n",
    "print(N)\n",
    "print(i == N-1)\n",
    "\n",
    "\n",
    "    \n",
    "       \n",
    "    \n",
    "    \n",
    "    "
   ]
  },
  {
   "cell_type": "markdown",
   "id": "e065a2a0",
   "metadata": {},
   "source": [
    "#  Replace Elements with Greatest Element on Right Side\n",
    "\n",
    "Given an array arr, replace every element in that array with the greatest element among the elements to its right, and replace the last element with -1.\n",
    "\n",
    "After doing so, return the array\n",
    "\n",
    "Input: arr = [17,18,5,4,6,1]\n",
    "Output: [18,6,6,6,1,-1]"
   ]
  },
  {
   "cell_type": "code",
   "execution_count": 105,
   "id": "1a2fdfe7",
   "metadata": {},
   "outputs": [],
   "source": [
    "# not solved\n",
    "    \n",
    "    "
   ]
  },
  {
   "cell_type": "markdown",
   "id": "def4a336",
   "metadata": {},
   "source": [
    "#  Move Zeroes\n",
    "\n",
    "Solution\n",
    "Given an integer array nums, move all 0's to the end of it while maintaining the relative order of the non-zero elements.\n",
    "\n",
    "Note that you must do this in-place without making a copy of the array.\n",
    "\n",
    "Input: nums = [0,1,0,3,12]\n",
    "Output: [1,3,12,0,0]\n"
   ]
  },
  {
   "cell_type": "code",
   "execution_count": 122,
   "id": "0a631d82",
   "metadata": {},
   "outputs": [
    {
     "name": "stdout",
     "output_type": "stream",
     "text": [
      "[1, 3, 12, 0, 0]\n"
     ]
    }
   ],
   "source": [
    "# i and j iteration\n",
    "nums = [0,1,0,3,12]\n",
    "i = 0 ; j = 0\n",
    "while j < len(nums): #  0 < 5\n",
    "    if nums[j] == 0: # this makes the j values more and give us J count\n",
    "        j += 1\n",
    "    else:\n",
    "        nums[i] = nums[j] # 1st slot they are adding 1\n",
    "        i += 1\n",
    "        j += 1 # this is important \n",
    "\n",
    "while i < len(nums): # addintg extra zeros back\n",
    "    nums[i] = 0\n",
    "    i += 1\n",
    "\n",
    "print(nums)\n",
    "    "
   ]
  },
  {
   "cell_type": "markdown",
   "id": "957c827f",
   "metadata": {},
   "source": [
    "# Sort Array By Parity\n",
    "\n",
    "Solution\n",
    "Given an integer array nums, move all the even integers at the beginning of the array followed by all the odd integers.\n",
    "\n",
    "Return any array that satisfies this condition.\n",
    "\n",
    " \n",
    "\n",
    "Example 1:\n",
    "\n",
    "Input: nums = [3,1,2,4]\n",
    "Output: [2,4,3,1]\n",
    "Explanation: The outputs [4,2,3,1], [2,4,1,3], and [4,2,1,3] would also be accepted."
   ]
  },
  {
   "cell_type": "code",
   "execution_count": null,
   "id": "fc0b3c58",
   "metadata": {},
   "outputs": [],
   "source": [
    "A = [3,1,2,4]\n",
    "i=0\n",
    "j = len(A) - 1 # 3\n",
    "while i < j:\n",
    "    if A[i] % 2 > A[j] % 2:\n",
    "        A[i], A[j] = A[j], A[i] # swap method\n",
    "\n",
    "    if A[i] % 2 == 0: i += 1 # Adding even\n",
    "    if A[j] % 2 == 1: j -= 1 # \n",
    "\n",
    "print(A)\n",
    "  "
   ]
  },
  {
   "cell_type": "markdown",
   "id": "afbff55b",
   "metadata": {},
   "source": [
    "# Remove Element\n",
    "\n",
    "Solution\n",
    "Given an integer array nums and an integer val, remove all occurrences of val in nums in-place. The relative order of the elements may be changed.\n",
    "Since it is impossible to change the length of the array in some languages, you must instead have the result be placed in the first part of the array nums. More formally, if there are k elements after removing the duplicates, then the first k elements of nums should hold the final result. It does not matter what you leave beyond the first k elements.\n",
    "Return k after placing the final result in the first k slots of nums.\n",
    "\n",
    "Input: nums = [3,2,2,3], val = 3\n",
    "Output: 2, nums = [2,2,_,_]\n",
    "Input: nums = [0,1,2,2,3,0,4,2], val = 2\n",
    "Output: 5, nums = [0,1,4,0,3,_,_,_]\n",
    "    \n",
    "    "
   ]
  },
  {
   "cell_type": "code",
   "execution_count": 153,
   "id": "baa0deaf",
   "metadata": {},
   "outputs": [
    {
     "name": "stdout",
     "output_type": "stream",
     "text": [
      "[0, 1, 2, 2, 0, 4, 2, 2]\n"
     ]
    }
   ],
   "source": [
    "# taking count rather than new dictionary\n",
    "\n",
    "nums = [0,1,2,2,3,0,4,2]; k = 3\n",
    "count = 0\n",
    "# Loop through all the elements of the array\n",
    "for i in range(len(nums)):\n",
    "    if nums[i] != val:\n",
    "        # If the element is not val\n",
    "        nums[count] = nums[i]\n",
    "        count += 1\n",
    "print(nums) \n",
    "\n",
    "        "
   ]
  },
  {
   "attachments": {
    "image-2.png": {
     "image/png": "[encoded data removed]"
    }
   },
   "cell_type": "markdown",
   "id": "3233b363",
   "metadata": {},
   "source": [
    "# Height Checker\n",
    "A school is trying to take an annual photo of all the students. The students are asked to stand in a single file line in non-decreasing order by height. Let this ordering be represented by the integer array expected where expected[i] is the expected height of the ith student in line.\n",
    "\n",
    "You are given an integer array heights representing the current order that the students are standing in. Each heights[i] is the height of the ith student in line (0-indexed).\n",
    "\n",
    "Return the number of indices where heights[i] != expected[i]\n",
    "\n",
    "Input: heights = [1,1,4,2,1,3]\n",
    "Output: 3\n",
    "![image-2.png](attachment:image-2.png)\n",
    "\n",
    "\n",
    "    "
   ]
  },
  {
   "cell_type": "code",
   "execution_count": 156,
   "id": "3c332b24",
   "metadata": {},
   "outputs": [
    {
     "name": "stdout",
     "output_type": "stream",
     "text": [
      "3\n"
     ]
    }
   ],
   "source": [
    "#Sort the list of heights into a new variable. Then iterate over each item, counting how many values are different between the two lists.\n",
    "\n",
    "heights = [1,1,4,2,1,3]\n",
    "Sorted_heights = sorted(heights)\n",
    "count =0\n",
    "for i in range(len(heights)):\n",
    "    if Sorted_heights[i]!=heights[i]:\n",
    "        count +=1\n",
    "\n",
    "print(count)\n",
    "    \n",
    " "
   ]
  },
  {
   "cell_type": "markdown",
   "id": "79545782",
   "metadata": {},
   "source": [
    "# Max Consecutive Ones II\n",
    "\n",
    "Solution\n",
    "Given a binary array nums, return the maximum number of consecutive 1's in the array if you can flip at most one 0.\n",
    "ut: nums = [1,0,1,1,0,1]\n",
    "Output: 4\n",
    "Explanation: \n",
    "- If we flip the first zero, nums becomes [1,1,1,1,0,1] and we have 4 consecutive ones.\n",
    "- If we flip the second zero, nums becomes [1,0,1,1,1,1] and we have 4 consecutive ones.\n",
    "The max number of consecutive ones is 4.\n"
   ]
  },
  {
   "cell_type": "code",
   "execution_count": 192,
   "id": "df1210c2",
   "metadata": {},
   "outputs": [
    {
     "name": "stdout",
     "output_type": "stream",
     "text": [
      "4\n"
     ]
    }
   ],
   "source": [
    "# Need to work on this. Doube for loop only works\n",
    "\n",
    "nums = [1,0,1,1,0,1]\n",
    "longest_sequence = 0\n",
    "for i in range(len(nums)):\n",
    "    num_zeroes = 0\n",
    "    for j in range(i, len(nums)):   # check every consecutive sequence\n",
    "        if num_zeroes == 2:\n",
    "            break\n",
    "        if nums[j] == 0:               # count how many 0's\n",
    "            num_zeroes += 1\n",
    "        if num_zeroes <= 1:                 # update answer if it's valid\n",
    "            longest_sequence = max(longest_sequence, j - i + 1)\n",
    "print(longest_sequence)\n",
    "\n",
    "    "
   ]
  },
  {
   "cell_type": "markdown",
   "id": "a10ae176",
   "metadata": {},
   "source": [
    "# Third Maximum Number\n",
    "\n",
    "Solution\n",
    "Given an integer array nums, return the third distinct maximum number in this array. If the third maximum does not exist, return the maximum number.\n",
    "\n",
    "Input: nums = [2,2,3,1]\n",
    "Output: 1\n",
    "    Input: nums = [3,2,1]\n",
    "Output: 1\n",
    " \n",
    "\n"
   ]
  },
  {
   "cell_type": "code",
   "execution_count": 207,
   "id": "19a9ff63",
   "metadata": {},
   "outputs": [
    {
     "name": "stdout",
     "output_type": "stream",
     "text": [
      "max 1\n",
      "3\n"
     ]
    }
   ],
   "source": [
    "# real time program is different\n",
    "\n",
    "nums = [2,2,3,1,4,5]\n",
    "maxcnt=1\n",
    "for i in range(len(nums)-1):\n",
    "    if maxcnt ==3:\n",
    "        print(\"max\",nums[i])\n",
    "        break\n",
    "    if nums[i]==nums[i+1]:\n",
    "        maxcnt=1\n",
    "    \n",
    "    elif nums[i]!=nums[i+1]:\n",
    "        maxcnt+=1\n",
    "    \n",
    "print(maxcnt)  "
   ]
  },
  {
   "cell_type": "markdown",
   "id": "09c253d2",
   "metadata": {},
   "source": [
    "# Find All Numbers Disappeared in an Array\n",
    "\n",
    "Solution\n",
    "Given an array nums of n integers where nums[i] is in the range [1, n], return an array of all the integers in the range [1, n] that do not appear in nums.\n",
    "\n",
    "\n",
    "Example 1:\n",
    "\n",
    "Input: nums = [4,3,2,7,8,2,3,1]\n",
    "Output: [5,6]"
   ]
  },
  {
   "cell_type": "code",
   "execution_count": 214,
   "id": "cda06223",
   "metadata": {},
   "outputs": [
    {
     "name": "stdout",
     "output_type": "stream",
     "text": [
      "[5, 6]\n"
     ]
    }
   ],
   "source": [
    "nums = [4,3,2,7,8,2,3,1] \n",
    "\n",
    "h=[]\n",
    "for i in range(1,len(nums)):\n",
    "    if i not in nums:\n",
    "        h.append(i)\n",
    "\n",
    "print(h)\n",
    "        "
   ]
  },
  {
   "cell_type": "markdown",
   "id": "1e206f53",
   "metadata": {},
   "source": [
    "# Squares of a Sorted Array\n",
    "\n",
    "Solution\n",
    "Given an integer array nums sorted in non-decreasing order, return an array of the squares of each number sorted in non-decreasing order.\n",
    "\n",
    " \n",
    "\n",
    "Example 1:\n",
    "\n",
    "Input: nums = [-4,-1,0,3,10]\n",
    "Output: [0,1,9,16,100]\n",
    "Explanation: After squaring, the array becomes [16,1,0,9,100].\n",
    "After sorting, it becomes [0,1,9,16,100]."
   ]
  },
  {
   "cell_type": "code",
   "execution_count": 219,
   "id": "3bd48160",
   "metadata": {},
   "outputs": [
    {
     "name": "stdout",
     "output_type": "stream",
     "text": [
      "[0, 1, 9, 16, 100]\n"
     ]
    }
   ],
   "source": [
    "nums = [-4,-1,0,3,10]\n",
    "\n",
    "for i in range(len(nums)):\n",
    "    nums[i]=nums[i]**2\n",
    "    \n",
    "print(sorted(nums))"
   ]
  },
  {
   "cell_type": "code",
   "execution_count": null,
   "id": "e2798d83",
   "metadata": {},
   "outputs": [],
   "source": []
  }
 ],
 "metadata": {
  "kernelspec": {
   "display_name": "Python 3 (ipykernel)",
   "language": "python",
   "name": "python3"
  },
  "language_info": {
   "codemirror_mode": {
    "name": "ipython",
    "version": 3
   },
   "file_extension": ".py",
   "mimetype": "text/x-python",
   "name": "python",
   "nbconvert_exporter": "python",
   "pygments_lexer": "ipython3",
   "version": "3.9.12"
  }
 },
 "nbformat": 4,
 "nbformat_minor": 5
}
